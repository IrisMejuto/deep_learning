{
  "cells": [
    {
      "cell_type": "markdown",
      "metadata": {
        "colab_type": "text",
        "id": "view-in-github"
      },
      "source": [
        "<a href=\"https://colab.research.google.com/github/IrisMejuto/deep_learning/blob/main/Practica_DL_soluci%C3%B3n.ipynb\" target=\"_parent\"><img src=\"https://colab.research.google.com/assets/colab-badge.svg\" alt=\"Open In Colab\"/></a>"
      ]
    },
    {
      "cell_type": "code",
      "execution_count": null,
      "metadata": {
        "colab": {
          "base_uri": "https://localhost:8080/"
        },
        "id": "DZm8eUd9OCNe",
        "outputId": "9fe709e1-d77a-4124-92d7-05373b009fbb"
      },
      "outputs": [
        {
          "name": "stdout",
          "output_type": "stream",
          "text": [
            "Collecting optuna\n",
            "  Downloading optuna-4.3.0-py3-none-any.whl.metadata (17 kB)\n",
            "Collecting alembic>=1.5.0 (from optuna)\n",
            "  Downloading alembic-1.16.1-py3-none-any.whl.metadata (7.3 kB)\n",
            "Collecting colorlog (from optuna)\n",
            "  Downloading colorlog-6.9.0-py3-none-any.whl.metadata (10 kB)\n",
            "Requirement already satisfied: numpy in /usr/local/lib/python3.11/dist-packages (from optuna) (2.0.2)\n",
            "Requirement already satisfied: packaging>=20.0 in /usr/local/lib/python3.11/dist-packages (from optuna) (24.2)\n",
            "Requirement already satisfied: sqlalchemy>=1.4.2 in /usr/local/lib/python3.11/dist-packages (from optuna) (2.0.41)\n",
            "Requirement already satisfied: tqdm in /usr/local/lib/python3.11/dist-packages (from optuna) (4.67.1)\n",
            "Requirement already satisfied: PyYAML in /usr/local/lib/python3.11/dist-packages (from optuna) (6.0.2)\n",
            "Requirement already satisfied: Mako in /usr/lib/python3/dist-packages (from alembic>=1.5.0->optuna) (1.1.3)\n",
            "Requirement already satisfied: typing-extensions>=4.12 in /usr/local/lib/python3.11/dist-packages (from alembic>=1.5.0->optuna) (4.14.0)\n",
            "Requirement already satisfied: greenlet>=1 in /usr/local/lib/python3.11/dist-packages (from sqlalchemy>=1.4.2->optuna) (3.2.2)\n",
            "Downloading optuna-4.3.0-py3-none-any.whl (386 kB)\n",
            "\u001b[2K   \u001b[90m━━━━━━━━━━━━━━━━━━━━━━━━━━━━━━━━━━━━━━━━\u001b[0m \u001b[32m386.6/386.6 kB\u001b[0m \u001b[31m6.7 MB/s\u001b[0m eta \u001b[36m0:00:00\u001b[0m\n",
            "\u001b[?25hDownloading alembic-1.16.1-py3-none-any.whl (242 kB)\n",
            "\u001b[2K   \u001b[90m━━━━━━━━━━━━━━━━━━━━━━━━━━━━━━━━━━━━━━━━\u001b[0m \u001b[32m242.5/242.5 kB\u001b[0m \u001b[31m5.6 MB/s\u001b[0m eta \u001b[36m0:00:00\u001b[0m\n",
            "\u001b[?25hDownloading colorlog-6.9.0-py3-none-any.whl (11 kB)\n",
            "Installing collected packages: colorlog, alembic, optuna\n",
            "Successfully installed alembic-1.16.1 colorlog-6.9.0 optuna-4.3.0\n"
          ]
        }
      ],
      "source": [
        "!pip install optuna torchvision"
      ]
    },
    {
      "cell_type": "code",
      "execution_count": null,
      "metadata": {
        "id": "sShONtPsLXqP"
      },
      "outputs": [],
      "source": [
        "# 0. Información de las versiones usadas en el notebook\n",
        "import os\n",
        "import pandas as pd\n",
        "from google.colab import drive\n",
        "import cv2\n",
        "import folium\n",
        "import matplotlib.pyplot as plt\n",
        "import numpy as np\n",
        "import optuna\n",
        "import pandas as pd\n",
        "import seaborn as sns\n",
        "import torch\n",
        "import torch.nn as nn\n",
        "import torch.optim as optim\n",
        "import torchvision\n",
        "import torchvision.utils\n",
        "from tensorboard import program\n",
        "from torch.utils.data import DataLoader, Dataset, random_split"
      ]
    },
    {
      "cell_type": "code",
      "execution_count": null,
      "metadata": {
        "colab": {
          "base_uri": "https://localhost:8080/"
        },
        "id": "OYtNZsR3Linn",
        "outputId": "d81359f0-8ec6-413e-fac8-9512d6e2e256"
      },
      "outputs": [
        {
          "name": "stdout",
          "output_type": "stream",
          "text": [
            "PyTorch version: 2.6.0+cu124\n",
            "Torchvision version: 0.21.0+cu124\n",
            "NumPy version: 2.0.2\n",
            "Pandas version: 2.2.2\n",
            "Optuna version: 4.3.0\n"
          ]
        }
      ],
      "source": [
        "print(f\"PyTorch version: {torch.__version__}\")\n",
        "print(f\"Torchvision version: {torchvision.__version__}\")\n",
        "print(f\"NumPy version: {np.__version__}\")\n",
        "print(f\"Pandas version: {pd.__version__}\")\n",
        "print(f\"Optuna version: {optuna.__version__}\")"
      ]
    },
    {
      "cell_type": "code",
      "execution_count": null,
      "metadata": {
        "colab": {
          "base_uri": "https://localhost:8080/"
        },
        "id": "LM8RN5C5QuEN",
        "outputId": "05cd2e75-fc94-4356-c80d-54ff55a25a1c"
      },
      "outputs": [
        {
          "name": "stdout",
          "output_type": "stream",
          "text": [
            "Mounted at /content/drive\n",
            "¡Archivo cargado exitosamente!\n",
            "Ruta del archivo: /content/drive/MyDrive/ProyectoDL/data/poi_dataset.csv\n",
            "                                     id  \\\n",
            "0  4b36a3ed-3b28-4bc7-b975-1d48b586db03   \n",
            "1  e32b3603-a94f-49df-8b31-92445a86377c   \n",
            "2  0123a69b-13ac-4b65-a5d5-71a95560cff5   \n",
            "3  390d7d9e-e972-451c-b5e4-f494af15e788   \n",
            "4  023fc1bf-a1cd-4b9f-af78-48792ab1a294   \n",
            "\n",
            "                                                name  \\\n",
            "0                                  Galería Fran Reus   \n",
            "1                            Convento de San Plácido   \n",
            "2             Instituto Geológico y Minero de España   \n",
            "3                              Margarita Gil Roësset   \n",
            "4  Museo del Traje. Centro de Investigación del P...   \n",
            "\n",
            "                                    shortDescription  \\\n",
            "0  La Galería Fran Reus es un espacio dedicado a ...   \n",
            "1  El Convento de San Plácido en Madrid, fundado ...   \n",
            "2  El Instituto Geológico y Minero de España, sit...   \n",
            "3  Margarita Gil Roësset, escultora y poetisa esp...   \n",
            "4  El Museo del Traje de Madrid, fundado en 2004,...   \n",
            "\n",
            "                   categories  tier  locationLon  locationLat tags  xps  \\\n",
            "0    ['Escultura', 'Pintura']     1     2.642262    39.572694   []  500   \n",
            "1  ['Patrimonio', 'Historia']     1    -3.704467    40.423037   []  500   \n",
            "2   ['Ciencia', 'Patrimonio']     2    -3.699694    40.442045   []  250   \n",
            "3                 ['Cultura']     1    -3.691228    40.427256   []  500   \n",
            "4   ['Patrimonio', 'Cultura']     1    -3.727822    40.439665   []  500   \n",
            "\n",
            "   Visits  Likes  Dislikes  Bookmarks  \\\n",
            "0   10009    422      3582         78   \n",
            "1   10010   7743        96       2786   \n",
            "2   10015   3154       874        595   \n",
            "3   10011   8559        79       2358   \n",
            "4   10020    915      2896        143   \n",
            "\n",
            "                                     main_image_path  \n",
            "0  data_main/4b36a3ed-3b28-4bc7-b975-1d48b586db03...  \n",
            "1  data_main/e32b3603-a94f-49df-8b31-92445a86377c...  \n",
            "2  data_main/0123a69b-13ac-4b65-a5d5-71a95560cff5...  \n",
            "3  data_main/390d7d9e-e972-451c-b5e4-f494af15e788...  \n",
            "4  data_main/023fc1bf-a1cd-4b9f-af78-48792ab1a294...  \n"
          ]
        }
      ],
      "source": [
        "import os\n",
        "import pandas as pd\n",
        "from google.colab import drive\n",
        "\n",
        "# 1. Montar Google Drive\n",
        "drive.mount('/content/drive')\n",
        "\n",
        "# 2. Definir la ruta base a la carpeta de tu proyecto\n",
        "BASE_PATH = '/content/drive/MyDrive/ProyectoDL'\n",
        "\n",
        "# 3. Construir la ruta al archivo de datos usando os.path.join\n",
        "data_path = os.path.join(BASE_PATH, 'data', 'poi_dataset.csv')\n",
        "\n",
        "# 4. Cargar los datos\n",
        "try:\n",
        "    df = pd.read_csv(data_path)\n",
        "    print(\"¡Archivo cargado exitosamente!\")\n",
        "    print(f\"Ruta del archivo: {data_path}\")\n",
        "    print(df.head())\n",
        "except FileNotFoundError:\n",
        "    print(f\"ERROR: No se encontró el archivo en la ruta '{data_path}'\")\n",
        "    print(\"Por favor, verifica que la ruta y el nombre del archivo son correctos.\")\n"
      ]
    },
    {
      "cell_type": "markdown",
      "metadata": {
        "id": "mJtS9FgzzK5o"
      },
      "source": [
        "## Preparación del dataset\n"
      ]
    },
    {
      "cell_type": "code",
      "execution_count": null,
      "metadata": {
        "id": "u__RlLiHLm9-"
      },
      "outputs": [],
      "source": [
        "# Carga de datos\n",
        "data_path = os.path.join(BASE_PATH, 'data', 'poi_dataset.csv')\n",
        "df = pd.read_csv(data_path)"
      ]
    },
    {
      "cell_type": "code",
      "execution_count": null,
      "metadata": {
        "colab": {
          "base_uri": "https://localhost:8080/",
          "height": 397
        },
        "id": "LD-J29FGLqyH",
        "outputId": "e9b52a8e-31e3-4595-93fe-6598a4dd8b58"
      },
      "outputs": [
        {
          "data": {
            "application/vnd.google.colaboratory.intrinsic+json": {
              "summary": "{\n  \"name\": \"df\",\n  \"rows\": 1569,\n  \"fields\": [\n    {\n      \"column\": \"id\",\n      \"properties\": {\n        \"dtype\": \"string\",\n        \"num_unique_values\": 1492,\n        \"samples\": [\n          \"2e5ae2fa-81a4-47f4-b5cd-2c183979daa3\",\n          \"9592fcff-42a1-478d-acfb-dd9ac8202a6f\",\n          \"f815d5c2-5199-4cfb-b2dc-419752b0b573\"\n        ],\n        \"semantic_type\": \"\",\n        \"description\": \"\"\n      }\n    },\n    {\n      \"column\": \"name\",\n      \"properties\": {\n        \"dtype\": \"string\",\n        \"num_unique_values\": 1458,\n        \"samples\": [\n          \"Nan Madol\",\n          \"Monumento a Pedro Vargas\",\n          \"Congreso de los Diputados\"\n        ],\n        \"semantic_type\": \"\",\n        \"description\": \"\"\n      }\n    },\n    {\n      \"column\": \"shortDescription\",\n      \"properties\": {\n        \"dtype\": \"string\",\n        \"num_unique_values\": 1491,\n        \"samples\": [\n          \"Descubre los restos en calle Bail\\u00e9n, un viaje al Madrid de Felipe II. Historia viva en cada piedra.\",\n          \"\\u00a1Descubre el Cuartel General de la Armada y Museo Naval! Admira su arquitectura y explora la rica historia naval de Espa\\u00f1a.\",\n          \"\\u00a1Descubre la Parroquia de Santa B\\u00e1rbara! Admira su esplendor barroco y sum\\u00e9rgete en siglos de historia y devoci\\u00f3n.\"\n        ],\n        \"semantic_type\": \"\",\n        \"description\": \"\"\n      }\n    },\n    {\n      \"column\": \"categories\",\n      \"properties\": {\n        \"dtype\": \"category\",\n        \"num_unique_values\": 224,\n        \"samples\": [\n          \"['Arquitectura', 'Patrimonio']\",\n          \"['Cultura', 'Escultura', 'Historia']\",\n          \"['Historia', 'Cine', 'Cultura']\"\n        ],\n        \"semantic_type\": \"\",\n        \"description\": \"\"\n      }\n    },\n    {\n      \"column\": \"tier\",\n      \"properties\": {\n        \"dtype\": \"number\",\n        \"std\": 0,\n        \"min\": 1,\n        \"max\": 4,\n        \"num_unique_values\": 4,\n        \"samples\": [\n          2,\n          4,\n          1\n        ],\n        \"semantic_type\": \"\",\n        \"description\": \"\"\n      }\n    },\n    {\n      \"column\": \"locationLon\",\n      \"properties\": {\n        \"dtype\": \"number\",\n        \"std\": 22.73340139333806,\n        \"min\": -121.95104909999998,\n        \"max\": 158.33311819999994,\n        \"num_unique_values\": 1437,\n        \"samples\": [\n          -3.6858556431608087,\n          -3.6795050611324815,\n          -3.75789965983893\n        ],\n        \"semantic_type\": \"\",\n        \"description\": \"\"\n      }\n    },\n    {\n      \"column\": \"locationLat\",\n      \"properties\": {\n        \"dtype\": \"number\",\n        \"std\": 9.662134190830127,\n        \"min\": -62.9409297,\n        \"max\": 65.7065724,\n        \"num_unique_values\": 1439,\n        \"samples\": [\n          40.43092747841812,\n          40.41754337324238,\n          40.42476290600173\n        ],\n        \"semantic_type\": \"\",\n        \"description\": \"\"\n      }\n    },\n    {\n      \"column\": \"tags\",\n      \"properties\": {\n        \"dtype\": \"string\",\n        \"num_unique_values\": 1418,\n        \"samples\": [\n          \"['Mar\\u00eda Guerrero', 'Tecnolog\\u00eda', 'Restauraci\\u00f3n', 'Madrid', 'Teatro', 'Cultura', 'Historia', 'Clasicista', 'Neomud\\u00e9jar', 'Arquitectura']\",\n          \"['Madrid', 'Anfiteatro', 'Eventos', 'Distrito', 'Cultura', 'Edificaci\\u00f3n singular', 'Arquitectura', 'Auditorio', 'Naturaleza', 'Parque', 'Comunidad', 'Entretenimiento']\",\n          \"['Madrid', 'Historia', 'Cultura', 'Puerta, arco triunfal', 'Moncloa-aravaca', 'Arquitectura', 'Monumental', 'Parque', 'Casa de campo', 'Bosque real', 'Transici\\u00f3n', 'Siglo xix', 'Patrimonio']\"\n        ],\n        \"semantic_type\": \"\",\n        \"description\": \"\"\n      }\n    },\n    {\n      \"column\": \"xps\",\n      \"properties\": {\n        \"dtype\": \"number\",\n        \"std\": 228,\n        \"min\": 0,\n        \"max\": 1000,\n        \"num_unique_values\": 13,\n        \"samples\": [\n          1000,\n          800,\n          500\n        ],\n        \"semantic_type\": \"\",\n        \"description\": \"\"\n      }\n    },\n    {\n      \"column\": \"Visits\",\n      \"properties\": {\n        \"dtype\": \"number\",\n        \"std\": 5,\n        \"min\": 10001,\n        \"max\": 10038,\n        \"num_unique_values\": 37,\n        \"samples\": [\n          10014,\n          10028,\n          10020\n        ],\n        \"semantic_type\": \"\",\n        \"description\": \"\"\n      }\n    },\n    {\n      \"column\": \"Likes\",\n      \"properties\": {\n        \"dtype\": \"number\",\n        \"std\": 4817,\n        \"min\": 100,\n        \"max\": 26425,\n        \"num_unique_values\": 1241,\n        \"samples\": [\n          8961,\n          418,\n          2859\n        ],\n        \"semantic_type\": \"\",\n        \"description\": \"\"\n      }\n    },\n    {\n      \"column\": \"Dislikes\",\n      \"properties\": {\n        \"dtype\": \"number\",\n        \"std\": 2225,\n        \"min\": 52,\n        \"max\": 10999,\n        \"num_unique_values\": 1154,\n        \"samples\": [\n          10169,\n          8980,\n          9605\n        ],\n        \"semantic_type\": \"\",\n        \"description\": \"\"\n      }\n    },\n    {\n      \"column\": \"Bookmarks\",\n      \"properties\": {\n        \"dtype\": \"number\",\n        \"std\": 1453,\n        \"min\": 50,\n        \"max\": 8157,\n        \"num_unique_values\": 819,\n        \"samples\": [\n          100,\n          724,\n          2648\n        ],\n        \"semantic_type\": \"\",\n        \"description\": \"\"\n      }\n    },\n    {\n      \"column\": \"main_image_path\",\n      \"properties\": {\n        \"dtype\": \"string\",\n        \"num_unique_values\": 1492,\n        \"samples\": [\n          \"data_main/2e5ae2fa-81a4-47f4-b5cd-2c183979daa3/main.jpg\",\n          \"data_main/9592fcff-42a1-478d-acfb-dd9ac8202a6f/main.jpg\",\n          \"data_main/f815d5c2-5199-4cfb-b2dc-419752b0b573/main.jpg\"\n        ],\n        \"semantic_type\": \"\",\n        \"description\": \"\"\n      }\n    }\n  ]\n}",
              "type": "dataframe",
              "variable_name": "df"
            },
            "text/html": [
              "\n",
              "  <div id=\"df-e791faea-d054-4650-b64c-86dd930dcc2f\" class=\"colab-df-container\">\n",
              "    <div>\n",
              "<style scoped>\n",
              "    .dataframe tbody tr th:only-of-type {\n",
              "        vertical-align: middle;\n",
              "    }\n",
              "\n",
              "    .dataframe tbody tr th {\n",
              "        vertical-align: top;\n",
              "    }\n",
              "\n",
              "    .dataframe thead th {\n",
              "        text-align: right;\n",
              "    }\n",
              "</style>\n",
              "<table border=\"1\" class=\"dataframe\">\n",
              "  <thead>\n",
              "    <tr style=\"text-align: right;\">\n",
              "      <th></th>\n",
              "      <th>id</th>\n",
              "      <th>name</th>\n",
              "      <th>shortDescription</th>\n",
              "      <th>categories</th>\n",
              "      <th>tier</th>\n",
              "      <th>locationLon</th>\n",
              "      <th>locationLat</th>\n",
              "      <th>tags</th>\n",
              "      <th>xps</th>\n",
              "      <th>Visits</th>\n",
              "      <th>Likes</th>\n",
              "      <th>Dislikes</th>\n",
              "      <th>Bookmarks</th>\n",
              "      <th>main_image_path</th>\n",
              "    </tr>\n",
              "  </thead>\n",
              "  <tbody>\n",
              "    <tr>\n",
              "      <th>0</th>\n",
              "      <td>4b36a3ed-3b28-4bc7-b975-1d48b586db03</td>\n",
              "      <td>Galería Fran Reus</td>\n",
              "      <td>La Galería Fran Reus es un espacio dedicado a ...</td>\n",
              "      <td>['Escultura', 'Pintura']</td>\n",
              "      <td>1</td>\n",
              "      <td>2.642262</td>\n",
              "      <td>39.572694</td>\n",
              "      <td>[]</td>\n",
              "      <td>500</td>\n",
              "      <td>10009</td>\n",
              "      <td>422</td>\n",
              "      <td>3582</td>\n",
              "      <td>78</td>\n",
              "      <td>data_main/4b36a3ed-3b28-4bc7-b975-1d48b586db03...</td>\n",
              "    </tr>\n",
              "    <tr>\n",
              "      <th>1</th>\n",
              "      <td>e32b3603-a94f-49df-8b31-92445a86377c</td>\n",
              "      <td>Convento de San Plácido</td>\n",
              "      <td>El Convento de San Plácido en Madrid, fundado ...</td>\n",
              "      <td>['Patrimonio', 'Historia']</td>\n",
              "      <td>1</td>\n",
              "      <td>-3.704467</td>\n",
              "      <td>40.423037</td>\n",
              "      <td>[]</td>\n",
              "      <td>500</td>\n",
              "      <td>10010</td>\n",
              "      <td>7743</td>\n",
              "      <td>96</td>\n",
              "      <td>2786</td>\n",
              "      <td>data_main/e32b3603-a94f-49df-8b31-92445a86377c...</td>\n",
              "    </tr>\n",
              "    <tr>\n",
              "      <th>2</th>\n",
              "      <td>0123a69b-13ac-4b65-a5d5-71a95560cff5</td>\n",
              "      <td>Instituto Geológico y Minero de España</td>\n",
              "      <td>El Instituto Geológico y Minero de España, sit...</td>\n",
              "      <td>['Ciencia', 'Patrimonio']</td>\n",
              "      <td>2</td>\n",
              "      <td>-3.699694</td>\n",
              "      <td>40.442045</td>\n",
              "      <td>[]</td>\n",
              "      <td>250</td>\n",
              "      <td>10015</td>\n",
              "      <td>3154</td>\n",
              "      <td>874</td>\n",
              "      <td>595</td>\n",
              "      <td>data_main/0123a69b-13ac-4b65-a5d5-71a95560cff5...</td>\n",
              "    </tr>\n",
              "    <tr>\n",
              "      <th>3</th>\n",
              "      <td>390d7d9e-e972-451c-b5e4-f494af15e788</td>\n",
              "      <td>Margarita Gil Roësset</td>\n",
              "      <td>Margarita Gil Roësset, escultora y poetisa esp...</td>\n",
              "      <td>['Cultura']</td>\n",
              "      <td>1</td>\n",
              "      <td>-3.691228</td>\n",
              "      <td>40.427256</td>\n",
              "      <td>[]</td>\n",
              "      <td>500</td>\n",
              "      <td>10011</td>\n",
              "      <td>8559</td>\n",
              "      <td>79</td>\n",
              "      <td>2358</td>\n",
              "      <td>data_main/390d7d9e-e972-451c-b5e4-f494af15e788...</td>\n",
              "    </tr>\n",
              "    <tr>\n",
              "      <th>4</th>\n",
              "      <td>023fc1bf-a1cd-4b9f-af78-48792ab1a294</td>\n",
              "      <td>Museo del Traje. Centro de Investigación del P...</td>\n",
              "      <td>El Museo del Traje de Madrid, fundado en 2004,...</td>\n",
              "      <td>['Patrimonio', 'Cultura']</td>\n",
              "      <td>1</td>\n",
              "      <td>-3.727822</td>\n",
              "      <td>40.439665</td>\n",
              "      <td>[]</td>\n",
              "      <td>500</td>\n",
              "      <td>10020</td>\n",
              "      <td>915</td>\n",
              "      <td>2896</td>\n",
              "      <td>143</td>\n",
              "      <td>data_main/023fc1bf-a1cd-4b9f-af78-48792ab1a294...</td>\n",
              "    </tr>\n",
              "  </tbody>\n",
              "</table>\n",
              "</div>\n",
              "    <div class=\"colab-df-buttons\">\n",
              "\n",
              "  <div class=\"colab-df-container\">\n",
              "    <button class=\"colab-df-convert\" onclick=\"convertToInteractive('df-e791faea-d054-4650-b64c-86dd930dcc2f')\"\n",
              "            title=\"Convert this dataframe to an interactive table.\"\n",
              "            style=\"display:none;\">\n",
              "\n",
              "  <svg xmlns=\"http://www.w3.org/2000/svg\" height=\"24px\" viewBox=\"0 -960 960 960\">\n",
              "    <path d=\"M120-120v-720h720v720H120Zm60-500h600v-160H180v160Zm220 220h160v-160H400v160Zm0 220h160v-160H400v160ZM180-400h160v-160H180v160Zm440 0h160v-160H620v160ZM180-180h160v-160H180v160Zm440 0h160v-160H620v160Z\"/>\n",
              "  </svg>\n",
              "    </button>\n",
              "\n",
              "  <style>\n",
              "    .colab-df-container {\n",
              "      display:flex;\n",
              "      gap: 12px;\n",
              "    }\n",
              "\n",
              "    .colab-df-convert {\n",
              "      background-color: #E8F0FE;\n",
              "      border: none;\n",
              "      border-radius: 50%;\n",
              "      cursor: pointer;\n",
              "      display: none;\n",
              "      fill: #1967D2;\n",
              "      height: 32px;\n",
              "      padding: 0 0 0 0;\n",
              "      width: 32px;\n",
              "    }\n",
              "\n",
              "    .colab-df-convert:hover {\n",
              "      background-color: #E2EBFA;\n",
              "      box-shadow: 0px 1px 2px rgba(60, 64, 67, 0.3), 0px 1px 3px 1px rgba(60, 64, 67, 0.15);\n",
              "      fill: #174EA6;\n",
              "    }\n",
              "\n",
              "    .colab-df-buttons div {\n",
              "      margin-bottom: 4px;\n",
              "    }\n",
              "\n",
              "    [theme=dark] .colab-df-convert {\n",
              "      background-color: #3B4455;\n",
              "      fill: #D2E3FC;\n",
              "    }\n",
              "\n",
              "    [theme=dark] .colab-df-convert:hover {\n",
              "      background-color: #434B5C;\n",
              "      box-shadow: 0px 1px 3px 1px rgba(0, 0, 0, 0.15);\n",
              "      filter: drop-shadow(0px 1px 2px rgba(0, 0, 0, 0.3));\n",
              "      fill: #FFFFFF;\n",
              "    }\n",
              "  </style>\n",
              "\n",
              "    <script>\n",
              "      const buttonEl =\n",
              "        document.querySelector('#df-e791faea-d054-4650-b64c-86dd930dcc2f button.colab-df-convert');\n",
              "      buttonEl.style.display =\n",
              "        google.colab.kernel.accessAllowed ? 'block' : 'none';\n",
              "\n",
              "      async function convertToInteractive(key) {\n",
              "        const element = document.querySelector('#df-e791faea-d054-4650-b64c-86dd930dcc2f');\n",
              "        const dataTable =\n",
              "          await google.colab.kernel.invokeFunction('convertToInteractive',\n",
              "                                                    [key], {});\n",
              "        if (!dataTable) return;\n",
              "\n",
              "        const docLinkHtml = 'Like what you see? Visit the ' +\n",
              "          '<a target=\"_blank\" href=https://colab.research.google.com/notebooks/data_table.ipynb>data table notebook</a>'\n",
              "          + ' to learn more about interactive tables.';\n",
              "        element.innerHTML = '';\n",
              "        dataTable['output_type'] = 'display_data';\n",
              "        await google.colab.output.renderOutput(dataTable, element);\n",
              "        const docLink = document.createElement('div');\n",
              "        docLink.innerHTML = docLinkHtml;\n",
              "        element.appendChild(docLink);\n",
              "      }\n",
              "    </script>\n",
              "  </div>\n",
              "\n",
              "\n",
              "    <div id=\"df-af77f8a1-64b4-445d-a557-277c47bdfb65\">\n",
              "      <button class=\"colab-df-quickchart\" onclick=\"quickchart('df-af77f8a1-64b4-445d-a557-277c47bdfb65')\"\n",
              "                title=\"Suggest charts\"\n",
              "                style=\"display:none;\">\n",
              "\n",
              "<svg xmlns=\"http://www.w3.org/2000/svg\" height=\"24px\"viewBox=\"0 0 24 24\"\n",
              "     width=\"24px\">\n",
              "    <g>\n",
              "        <path d=\"M19 3H5c-1.1 0-2 .9-2 2v14c0 1.1.9 2 2 2h14c1.1 0 2-.9 2-2V5c0-1.1-.9-2-2-2zM9 17H7v-7h2v7zm4 0h-2V7h2v10zm4 0h-2v-4h2v4z\"/>\n",
              "    </g>\n",
              "</svg>\n",
              "      </button>\n",
              "\n",
              "<style>\n",
              "  .colab-df-quickchart {\n",
              "      --bg-color: #E8F0FE;\n",
              "      --fill-color: #1967D2;\n",
              "      --hover-bg-color: #E2EBFA;\n",
              "      --hover-fill-color: #174EA6;\n",
              "      --disabled-fill-color: #AAA;\n",
              "      --disabled-bg-color: #DDD;\n",
              "  }\n",
              "\n",
              "  [theme=dark] .colab-df-quickchart {\n",
              "      --bg-color: #3B4455;\n",
              "      --fill-color: #D2E3FC;\n",
              "      --hover-bg-color: #434B5C;\n",
              "      --hover-fill-color: #FFFFFF;\n",
              "      --disabled-bg-color: #3B4455;\n",
              "      --disabled-fill-color: #666;\n",
              "  }\n",
              "\n",
              "  .colab-df-quickchart {\n",
              "    background-color: var(--bg-color);\n",
              "    border: none;\n",
              "    border-radius: 50%;\n",
              "    cursor: pointer;\n",
              "    display: none;\n",
              "    fill: var(--fill-color);\n",
              "    height: 32px;\n",
              "    padding: 0;\n",
              "    width: 32px;\n",
              "  }\n",
              "\n",
              "  .colab-df-quickchart:hover {\n",
              "    background-color: var(--hover-bg-color);\n",
              "    box-shadow: 0 1px 2px rgba(60, 64, 67, 0.3), 0 1px 3px 1px rgba(60, 64, 67, 0.15);\n",
              "    fill: var(--button-hover-fill-color);\n",
              "  }\n",
              "\n",
              "  .colab-df-quickchart-complete:disabled,\n",
              "  .colab-df-quickchart-complete:disabled:hover {\n",
              "    background-color: var(--disabled-bg-color);\n",
              "    fill: var(--disabled-fill-color);\n",
              "    box-shadow: none;\n",
              "  }\n",
              "\n",
              "  .colab-df-spinner {\n",
              "    border: 2px solid var(--fill-color);\n",
              "    border-color: transparent;\n",
              "    border-bottom-color: var(--fill-color);\n",
              "    animation:\n",
              "      spin 1s steps(1) infinite;\n",
              "  }\n",
              "\n",
              "  @keyframes spin {\n",
              "    0% {\n",
              "      border-color: transparent;\n",
              "      border-bottom-color: var(--fill-color);\n",
              "      border-left-color: var(--fill-color);\n",
              "    }\n",
              "    20% {\n",
              "      border-color: transparent;\n",
              "      border-left-color: var(--fill-color);\n",
              "      border-top-color: var(--fill-color);\n",
              "    }\n",
              "    30% {\n",
              "      border-color: transparent;\n",
              "      border-left-color: var(--fill-color);\n",
              "      border-top-color: var(--fill-color);\n",
              "      border-right-color: var(--fill-color);\n",
              "    }\n",
              "    40% {\n",
              "      border-color: transparent;\n",
              "      border-right-color: var(--fill-color);\n",
              "      border-top-color: var(--fill-color);\n",
              "    }\n",
              "    60% {\n",
              "      border-color: transparent;\n",
              "      border-right-color: var(--fill-color);\n",
              "    }\n",
              "    80% {\n",
              "      border-color: transparent;\n",
              "      border-right-color: var(--fill-color);\n",
              "      border-bottom-color: var(--fill-color);\n",
              "    }\n",
              "    90% {\n",
              "      border-color: transparent;\n",
              "      border-bottom-color: var(--fill-color);\n",
              "    }\n",
              "  }\n",
              "</style>\n",
              "\n",
              "      <script>\n",
              "        async function quickchart(key) {\n",
              "          const quickchartButtonEl =\n",
              "            document.querySelector('#' + key + ' button');\n",
              "          quickchartButtonEl.disabled = true;  // To prevent multiple clicks.\n",
              "          quickchartButtonEl.classList.add('colab-df-spinner');\n",
              "          try {\n",
              "            const charts = await google.colab.kernel.invokeFunction(\n",
              "                'suggestCharts', [key], {});\n",
              "          } catch (error) {\n",
              "            console.error('Error during call to suggestCharts:', error);\n",
              "          }\n",
              "          quickchartButtonEl.classList.remove('colab-df-spinner');\n",
              "          quickchartButtonEl.classList.add('colab-df-quickchart-complete');\n",
              "        }\n",
              "        (() => {\n",
              "          let quickchartButtonEl =\n",
              "            document.querySelector('#df-af77f8a1-64b4-445d-a557-277c47bdfb65 button');\n",
              "          quickchartButtonEl.style.display =\n",
              "            google.colab.kernel.accessAllowed ? 'block' : 'none';\n",
              "        })();\n",
              "      </script>\n",
              "    </div>\n",
              "\n",
              "    </div>\n",
              "  </div>\n"
            ],
            "text/plain": [
              "                                     id  \\\n",
              "0  4b36a3ed-3b28-4bc7-b975-1d48b586db03   \n",
              "1  e32b3603-a94f-49df-8b31-92445a86377c   \n",
              "2  0123a69b-13ac-4b65-a5d5-71a95560cff5   \n",
              "3  390d7d9e-e972-451c-b5e4-f494af15e788   \n",
              "4  023fc1bf-a1cd-4b9f-af78-48792ab1a294   \n",
              "\n",
              "                                                name  \\\n",
              "0                                  Galería Fran Reus   \n",
              "1                            Convento de San Plácido   \n",
              "2             Instituto Geológico y Minero de España   \n",
              "3                              Margarita Gil Roësset   \n",
              "4  Museo del Traje. Centro de Investigación del P...   \n",
              "\n",
              "                                    shortDescription  \\\n",
              "0  La Galería Fran Reus es un espacio dedicado a ...   \n",
              "1  El Convento de San Plácido en Madrid, fundado ...   \n",
              "2  El Instituto Geológico y Minero de España, sit...   \n",
              "3  Margarita Gil Roësset, escultora y poetisa esp...   \n",
              "4  El Museo del Traje de Madrid, fundado en 2004,...   \n",
              "\n",
              "                   categories  tier  locationLon  locationLat tags  xps  \\\n",
              "0    ['Escultura', 'Pintura']     1     2.642262    39.572694   []  500   \n",
              "1  ['Patrimonio', 'Historia']     1    -3.704467    40.423037   []  500   \n",
              "2   ['Ciencia', 'Patrimonio']     2    -3.699694    40.442045   []  250   \n",
              "3                 ['Cultura']     1    -3.691228    40.427256   []  500   \n",
              "4   ['Patrimonio', 'Cultura']     1    -3.727822    40.439665   []  500   \n",
              "\n",
              "   Visits  Likes  Dislikes  Bookmarks  \\\n",
              "0   10009    422      3582         78   \n",
              "1   10010   7743        96       2786   \n",
              "2   10015   3154       874        595   \n",
              "3   10011   8559        79       2358   \n",
              "4   10020    915      2896        143   \n",
              "\n",
              "                                     main_image_path  \n",
              "0  data_main/4b36a3ed-3b28-4bc7-b975-1d48b586db03...  \n",
              "1  data_main/e32b3603-a94f-49df-8b31-92445a86377c...  \n",
              "2  data_main/0123a69b-13ac-4b65-a5d5-71a95560cff5...  \n",
              "3  data_main/390d7d9e-e972-451c-b5e4-f494af15e788...  \n",
              "4  data_main/023fc1bf-a1cd-4b9f-af78-48792ab1a294...  "
            ]
          },
          "execution_count": 9,
          "metadata": {},
          "output_type": "execute_result"
        }
      ],
      "source": [
        "# Muestra dataset\n",
        "df.head()"
      ]
    },
    {
      "cell_type": "code",
      "execution_count": null,
      "metadata": {
        "colab": {
          "base_uri": "https://localhost:8080/"
        },
        "id": "S7hCKGqGLt7X",
        "outputId": "946ffbc6-5b4e-4694-b92a-ef816b444e4f"
      },
      "outputs": [
        {
          "name": "stdout",
          "output_type": "stream",
          "text": [
            "\n",
            "Información del dataset:\n",
            "<class 'pandas.core.frame.DataFrame'>\n",
            "RangeIndex: 1569 entries, 0 to 1568\n",
            "Data columns (total 14 columns):\n",
            " #   Column            Non-Null Count  Dtype  \n",
            "---  ------            --------------  -----  \n",
            " 0   id                1569 non-null   object \n",
            " 1   name              1569 non-null   object \n",
            " 2   shortDescription  1569 non-null   object \n",
            " 3   categories        1569 non-null   object \n",
            " 4   tier              1569 non-null   int64  \n",
            " 5   locationLon       1569 non-null   float64\n",
            " 6   locationLat       1569 non-null   float64\n",
            " 7   tags              1569 non-null   object \n",
            " 8   xps               1569 non-null   int64  \n",
            " 9   Visits            1569 non-null   int64  \n",
            " 10  Likes             1569 non-null   int64  \n",
            " 11  Dislikes          1569 non-null   int64  \n",
            " 12  Bookmarks         1569 non-null   int64  \n",
            " 13  main_image_path   1569 non-null   object \n",
            "dtypes: float64(2), int64(6), object(6)\n",
            "memory usage: 171.7+ KB\n"
          ]
        }
      ],
      "source": [
        "# Información general del dataset\n",
        "print(\"\\nInformación del dataset:\")\n",
        "df.info()"
      ]
    },
    {
      "cell_type": "code",
      "execution_count": null,
      "metadata": {
        "colab": {
          "base_uri": "https://localhost:8080/"
        },
        "id": "jXzJslJrLvuX",
        "outputId": "b53c09d6-a951-49b9-9e24-7cc35d13b597"
      },
      "outputs": [
        {
          "name": "stdout",
          "output_type": "stream",
          "text": [
            "\n",
            "Valores nulos por columna:\n",
            "id                  0\n",
            "name                0\n",
            "shortDescription    0\n",
            "categories          0\n",
            "tier                0\n",
            "locationLon         0\n",
            "locationLat         0\n",
            "tags                0\n",
            "xps                 0\n",
            "Visits              0\n",
            "Likes               0\n",
            "Dislikes            0\n",
            "Bookmarks           0\n",
            "main_image_path     0\n",
            "dtype: int64\n"
          ]
        }
      ],
      "source": [
        "# Verificamos valores nulos\n",
        "print(\"\\nValores nulos por columna:\")\n",
        "print(df.isnull().sum())"
      ]
    },
    {
      "cell_type": "code",
      "execution_count": null,
      "metadata": {
        "colab": {
          "base_uri": "https://localhost:8080/"
        },
        "id": "LecdLyf11wnG",
        "outputId": "c6199b4d-ca0c-4a8a-f901-044b273d9d7e"
      },
      "outputs": [
        {
          "name": "stdout",
          "output_type": "stream",
          "text": [
            "\n",
            "Dimensión Dataset:\n"
          ]
        },
        {
          "data": {
            "text/plain": [
              "(1569, 14)"
            ]
          },
          "execution_count": 21,
          "metadata": {},
          "output_type": "execute_result"
        }
      ],
      "source": [
        "# Dimensiones (filas, columnas)\n",
        "print(\"\\nDimensión Dataset:\")\n",
        "df.shape"
      ]
    },
    {
      "cell_type": "code",
      "execution_count": null,
      "metadata": {
        "colab": {
          "base_uri": "https://localhost:8080/"
        },
        "id": "3eb17IylLv3t",
        "outputId": "49f5b7b1-34ef-48eb-9363-7e1bf9586f7e"
      },
      "outputs": [
        {
          "name": "stdout",
          "output_type": "stream",
          "text": [
            "\n",
            "Valores únicos en columnas relevantes:\n",
            "Tiers únicos: [1 2 3 4]\n",
            "Tags únicos: ['[]' \"['s.XX']\"\n",
            " \"['Canaletto', 'paisaje', 'vedutismo', 's.XVIII', 'Cuadro', 'Venecia']\"\n",
            " ... \"['Estatuas', 'Plaza']\" \"['Alcalá', 'Gran Vía', 'Metrópolis']\"\n",
            " \"['Arquitectura', 'Cisterciense', 'Císter', 'Moreruela', 'Zamora', 'Ruinas', 'Monasterio']\"]\n",
            "Número de categorías únicas: 12\n",
            "Número de tags únicos: 2935\n"
          ]
        }
      ],
      "source": [
        "# Tipos de datos únicos en columnas categóricas\n",
        "print(\"\\nValores únicos en columnas relevantes:\")\n",
        "print(\"Tiers únicos:\", df['tier'].unique())\n",
        "print(\"Tags únicos:\", df['tags'].unique())\n",
        "print(\"Número de categorías únicas:\", len(set(category for categories_list in df['categories'].apply(eval) for category in categories_list)))\n",
        "print(\"Número de tags únicos:\", len(set(tag for tags_list in df['tags'].apply(eval) for tag in tags_list)))\n"
      ]
    },
    {
      "cell_type": "code",
      "execution_count": null,
      "metadata": {
        "colab": {
          "base_uri": "https://localhost:8080/"
        },
        "id": "TxP-2XZ6Lv_l",
        "outputId": "eb43dfdf-127d-416b-c830-2183600dbd77"
      },
      "outputs": [
        {
          "name": "stdout",
          "output_type": "stream",
          "text": [
            "\n",
            "Tags más frecuentes:\n",
            "Historia        802\n",
            "Madrid          700\n",
            "Cultura         583\n",
            "Arquitectura    398\n",
            "Patrimonio      353\n",
            "Arte            329\n",
            "Escultura       328\n",
            "Estatua         269\n",
            "Monumento       166\n",
            "Naturaleza      150\n",
            "Name: count, dtype: int64\n"
          ]
        }
      ],
      "source": [
        "# Frecuencias de cada tag\n",
        "all_tags = [tag for tags_list in df['tags'].apply(eval) for tag in tags_list]\n",
        "tag_frequencies = pd.Series(all_tags).value_counts()\n",
        "\n",
        "print(\"\\nTags más frecuentes:\")\n",
        "print(tag_frequencies.head(10))"
      ]
    },
    {
      "cell_type": "code",
      "execution_count": null,
      "metadata": {
        "id": "5M6Xwg2P1O21"
      },
      "outputs": [],
      "source": []
    }
  ],
  "metadata": {
    "colab": {
      "authorship_tag": "ABX9TyNTu/NoKfkSbbi3b9xUPYXM",
      "include_colab_link": true,
      "provenance": []
    },
    "kernelspec": {
      "display_name": "Python 3",
      "name": "python3"
    },
    "language_info": {
      "name": "python"
    }
  },
  "nbformat": 4,
  "nbformat_minor": 0
}
